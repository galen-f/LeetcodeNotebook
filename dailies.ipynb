{
 "cells": [
  {
   "cell_type": "markdown",
   "id": "71dae3d3",
   "metadata": {},
   "source": [
    "# Daily Leetcode Problems\n",
    "I discuss how I work through the daily leetcode problems I do (not quite daily, I'm a busy guy). I try to do them in both Python and C++."
   ]
  },
  {
   "cell_type": "markdown",
   "id": "7d06cd44",
   "metadata": {},
   "source": [
    "## Maximum Erasure Value\n",
    "### July 22, 2025\n",
    "You are given an array of positive integers nums and want to erase a subarray containing unique elements. The score you get by erasing the subarray is equal to the sum of its elements.\n",
    "\n",
    "Return the maximum score you can get by erasing exactly one subarray.\n",
    "\n",
    "An array b is called to be a subarray of a if it forms a contiguous subsequence of a, that is, if it is equal to a[l],a[l+1],...,a[r] for some (l,r).\n",
    "\n",
    "This is a medium questions, just a quick sliding window. What will be interesting is that I have never actually made a sliding window in C++."
   ]
  },
  {
   "cell_type": "code",
   "execution_count": 2,
   "id": "9c0243b6",
   "metadata": {},
   "outputs": [
    {
     "name": "stdout",
     "output_type": "stream",
     "text": [
      "8\n"
     ]
    }
   ],
   "source": [
    "from typing import List\n",
    "\n",
    "class Solution:\n",
    "    def maximumUniqueSubarray(self, nums: List[int]) -> int:\n",
    "        max_sum = 0\n",
    "        current_sum = 0\n",
    "        num_set = set()\n",
    "        left = 0\n",
    "\n",
    "        for num in nums:\n",
    "            if num in num_set:\n",
    "                while nums[left] != num:\n",
    "                    current_sum -= nums[left]\n",
    "                    num_set.remove(nums[left])\n",
    "                    left += 1            \n",
    "                \n",
    "                left += 1\n",
    "            else:\n",
    "                num_set.add(num)\n",
    "                current_sum += num                    \n",
    "                if current_sum > max_sum:\n",
    "                    max_sum = current_sum\n",
    "\n",
    "        return max_sum\n",
    "    \n",
    "## This bit is added for the demo\n",
    "sol = Solution()\n",
    "demo_input = [5,2,1,2,5,2,1,2,5]\n",
    "print(sol.maximumUniqueSubarray(demo_input))"
   ]
  },
  {
   "cell_type": "raw",
   "id": "94c8bf19",
   "metadata": {
    "vscode": {
     "languageId": "raw"
    }
   },
   "source": [
    "#include <vector>\n",
    "#include <unordered_set>\n",
    "\n",
    "class Solution {\n",
    "public:\n",
    "    int maximumUniqueSubarray(vector<int>& nums) {\n",
    "        unordered_set<int> seen;    // Current window contencts\n",
    "        long long curSum = 0;       // sum of elements in the window\n",
    "        long long best = 0;         // Current highest score\n",
    "        size_t left = 0;            // left edge of window\n",
    "\n",
    "        for (size_t right = 0; right < nums.size(); ++right) {\n",
    "            int val = nums[right];\n",
    "\n",
    "            // if val already in window, shrink from the left\n",
    "            while (seen.count(val)) {\n",
    "                seen.erase(nums[left]);\n",
    "                curSum -= nums[left];\n",
    "                ++left;\n",
    "            }\n",
    "\n",
    "            // now that val is unique, expand window to include it\n",
    "            seen.insert(val);\n",
    "            curSum += val;\n",
    "\n",
    "            best = max(best, curSum);\n",
    "        }\n",
    "        return static_cast<int>(best);\n",
    "    }\n",
    "};"
   ]
  },
  {
   "cell_type": "markdown",
   "id": "83666804",
   "metadata": {},
   "source": [
    "Interestingly, the Python script ran in 209 ms, and the C++ ran in 195 ms. Likely due to my novice abilities working with C++. Still, rare to see the two execution times so similar."
   ]
  },
  {
   "cell_type": "markdown",
   "id": "e976a27a",
   "metadata": {},
   "source": [
    "## Delete Characters to Make Fancy String\n",
    "### July 21, 2025\n",
    "A fancy string is a string where no three consecutive characters are equal.\n",
    "Given a string s, delete the minimum possible number of characters from s to make it fancy.\n",
    "Return the final string after the deletion. It can be shown that the answer will always be unique."
   ]
  },
  {
   "cell_type": "code",
   "execution_count": 9,
   "id": "f8d4c9bc",
   "metadata": {},
   "outputs": [
    {
     "name": "stdout",
     "output_type": "stream",
     "text": [
      "leetcode\n"
     ]
    }
   ],
   "source": [
    "class Solution:\n",
    "    def makeFancyString(self, s: str) -> str:\n",
    "        listofletters = []\n",
    "        for letter in s:\n",
    "            try:\n",
    "                if listofletters[-1] == letter and listofletters[-2] == letter:\n",
    "                    continue\n",
    "                else:\n",
    "                    listofletters.append(letter)\n",
    "            except:\n",
    "                listofletters.append(letter)\n",
    "\n",
    "        result = ''.join(listofletters)\n",
    "        return result\n",
    "\n",
    "## This bit is added for the demo\n",
    "sol = Solution()\n",
    "demo_input = \"leeeeeetcode\"\n",
    "print(sol.makeFancyString(demo_input))"
   ]
  },
  {
   "cell_type": "markdown",
   "id": "17980e01",
   "metadata": {},
   "source": [
    "This beats 94.43% of submissions in time complexity (202 ms). Let's try in C++."
   ]
  },
  {
   "cell_type": "raw",
   "id": "11045d6d",
   "metadata": {
    "vscode": {
     "languageId": "raw"
    }
   },
   "source": [
    "class Solution {\n",
    "public:\n",
    "    string makeFancyString(string s) {\n",
    "        std::string result;\n",
    "        for (char c : s) {\n",
    "            int n = result.size();\n",
    "            // If the last two chars in result are the same as c, skip\n",
    "            if (n >= 2 && result[n-1] == c && result[n-2] == c) {\n",
    "                continue;\n",
    "            }\n",
    "            result.push_back(c);\n",
    "        }\n",
    "        return result;\n",
    "    }\n",
    "};"
   ]
  },
  {
   "cell_type": "markdown",
   "id": "7be81111",
   "metadata": {},
   "source": [
    "This beats 72.24% of submissions in terms of time complexity, at just 22 ms, almost a tenth what python did. But it also looks way worse, so who knows."
   ]
  }
 ],
 "metadata": {
  "kernelspec": {
   "display_name": "Python 3",
   "language": "python",
   "name": "python3"
  },
  "language_info": {
   "codemirror_mode": {
    "name": "ipython",
    "version": 3
   },
   "file_extension": ".py",
   "mimetype": "text/x-python",
   "name": "python",
   "nbconvert_exporter": "python",
   "pygments_lexer": "ipython3",
   "version": "3.11.4"
  }
 },
 "nbformat": 4,
 "nbformat_minor": 5
}
