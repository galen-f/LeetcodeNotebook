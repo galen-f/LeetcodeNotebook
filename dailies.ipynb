{
 "cells": [
  {
   "cell_type": "markdown",
   "id": "71dae3d3",
   "metadata": {},
   "source": [
    "# Daily Leetcode Problems\n",
    "I discuss how I work through the daily leetcode problems I do (not quite daily, I'm a busy guy). I try to do them in both Python and C++."
   ]
  },
  {
   "cell_type": "markdown",
   "id": "e976a27a",
   "metadata": {},
   "source": [
    "## Delete Characters to Make Fancy String\n",
    "### July 21, 2025\n",
    "A fancy string is a string where no three consecutive characters are equal.\n",
    "Given a string s, delete the minimum possible number of characters from s to make it fancy.\n",
    "Return the final string after the deletion. It can be shown that the answer will always be unique."
   ]
  },
  {
   "cell_type": "code",
   "execution_count": 9,
   "id": "f8d4c9bc",
   "metadata": {},
   "outputs": [
    {
     "name": "stdout",
     "output_type": "stream",
     "text": [
      "leetcode\n"
     ]
    }
   ],
   "source": [
    "class Solution:\n",
    "    def makeFancyString(self, s: str) -> str:\n",
    "        listofletters = []\n",
    "        for letter in s:\n",
    "            try:\n",
    "                if listofletters[-1] == letter and listofletters[-2] == letter:\n",
    "                    continue\n",
    "                else:\n",
    "                    listofletters.append(letter)\n",
    "            except:\n",
    "                listofletters.append(letter)\n",
    "\n",
    "        result = ''.join(listofletters)\n",
    "        return result\n",
    "\n",
    "## This bit is added for the demo\n",
    "sol = Solution()\n",
    "demo_input = \"leeeeeetcode\"\n",
    "print(sol.makeFancyString(demo_input))"
   ]
  },
  {
   "cell_type": "markdown",
   "id": "17980e01",
   "metadata": {},
   "source": [
    "This beats 94.43% of submissions in time complexity (202 ms). Let's try in C++."
   ]
  },
  {
   "cell_type": "raw",
   "id": "11045d6d",
   "metadata": {
    "vscode": {
     "languageId": "raw"
    }
   },
   "source": [
    "class Solution {\n",
    "public:\n",
    "    string makeFancyString(string s) {\n",
    "        std::string result;\n",
    "        for (char c : s) {\n",
    "            int n = result.size();\n",
    "            // If the last two chars in result are the same as c, skip\n",
    "            if (n >= 2 && result[n-1] == c && result[n-2] == c) {\n",
    "                continue;\n",
    "            }\n",
    "            result.push_back(c);\n",
    "        }\n",
    "        return result;\n",
    "    }\n",
    "};"
   ]
  },
  {
   "cell_type": "markdown",
   "id": "7be81111",
   "metadata": {},
   "source": [
    "This beats 72.24% of submissions in terms of time complexity, at just 22 ms, almost a tenth what python did. But it also looks way worse, so who knows."
   ]
  }
 ],
 "metadata": {
  "kernelspec": {
   "display_name": "Python 3",
   "language": "python",
   "name": "python3"
  },
  "language_info": {
   "codemirror_mode": {
    "name": "ipython",
    "version": 3
   },
   "file_extension": ".py",
   "mimetype": "text/x-python",
   "name": "python",
   "nbconvert_exporter": "python",
   "pygments_lexer": "ipython3",
   "version": "3.11.4"
  }
 },
 "nbformat": 4,
 "nbformat_minor": 5
}
